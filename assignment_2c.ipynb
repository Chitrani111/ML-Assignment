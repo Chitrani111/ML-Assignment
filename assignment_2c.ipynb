{
 "cells": [
  {
   "cell_type": "code",
   "execution_count": 1,
   "id": "4fef8a5d-8d99-46f9-bfb5-5ddce9959b85",
   "metadata": {},
   "outputs": [
    {
     "name": "stdout",
     "output_type": "stream",
     "text": [
      "['P', 'V']\n",
      "['63.2', '55.3']\n",
      "['50.5', '62.5']\n",
      "['37.5', '72.4']\n",
      "['38.4', '89.7']\n",
      "['19.2', '118.6']\n",
      "['10.1', '194']\n"
     ]
    }
   ],
   "source": [
    "import csv\n",
    "f1 = open(\"P_V_graph.csv\",'w', newline='')\n",
    "w1 = csv.writer(f1)\n",
    "w1.writerow(['P', 'V'])\n",
    "l1 = [\n",
    "    [63.2, 55.3],\n",
    "    [50.5, 62.5],\n",
    "    [37.5, 72.4],\n",
    "    [38.4, 89.7],\n",
    "    [19.2, 118.6],\n",
    "    [10.1, 194]\n",
    "]\n",
    "w1.writerows(l1)\n",
    "f1.close()\n",
    "f2 = open(\"P_V_graph.csv\",'r')\n",
    "r1 = csv.reader(f2)\n",
    "for i in r1:\n",
    "    print(i)\n",
    "f2.close()"
   ]
  },
  {
   "cell_type": "code",
   "execution_count": 2,
   "id": "738b0f18-be67-4688-b059-01222757078b",
   "metadata": {},
   "outputs": [
    {
     "data": {
      "text/html": [
       "<div>\n",
       "<style scoped>\n",
       "    .dataframe tbody tr th:only-of-type {\n",
       "        vertical-align: middle;\n",
       "    }\n",
       "\n",
       "    .dataframe tbody tr th {\n",
       "        vertical-align: top;\n",
       "    }\n",
       "\n",
       "    .dataframe thead th {\n",
       "        text-align: right;\n",
       "    }\n",
       "</style>\n",
       "<table border=\"1\" class=\"dataframe\">\n",
       "  <thead>\n",
       "    <tr style=\"text-align: right;\">\n",
       "      <th></th>\n",
       "      <th>P</th>\n",
       "      <th>V</th>\n",
       "    </tr>\n",
       "  </thead>\n",
       "  <tbody>\n",
       "    <tr>\n",
       "      <th>0</th>\n",
       "      <td>63.2</td>\n",
       "      <td>55.3</td>\n",
       "    </tr>\n",
       "    <tr>\n",
       "      <th>1</th>\n",
       "      <td>50.5</td>\n",
       "      <td>62.5</td>\n",
       "    </tr>\n",
       "    <tr>\n",
       "      <th>2</th>\n",
       "      <td>37.5</td>\n",
       "      <td>72.4</td>\n",
       "    </tr>\n",
       "    <tr>\n",
       "      <th>3</th>\n",
       "      <td>38.4</td>\n",
       "      <td>89.7</td>\n",
       "    </tr>\n",
       "    <tr>\n",
       "      <th>4</th>\n",
       "      <td>19.2</td>\n",
       "      <td>118.6</td>\n",
       "    </tr>\n",
       "    <tr>\n",
       "      <th>5</th>\n",
       "      <td>10.1</td>\n",
       "      <td>194.0</td>\n",
       "    </tr>\n",
       "  </tbody>\n",
       "</table>\n",
       "</div>"
      ],
      "text/plain": [
       "      P      V\n",
       "0  63.2   55.3\n",
       "1  50.5   62.5\n",
       "2  37.5   72.4\n",
       "3  38.4   89.7\n",
       "4  19.2  118.6\n",
       "5  10.1  194.0"
      ]
     },
     "execution_count": 2,
     "metadata": {},
     "output_type": "execute_result"
    }
   ],
   "source": [
    "import pandas as pd\n",
    "from sklearn.model_selection import train_test_split\n",
    "from sklearn.linear_model import LinearRegression\n",
    "from sklearn.metrics import mean_squared_error\n",
    "import numpy as np\n",
    "\n",
    "import matplotlib.pyplot as plt\n",
    "from sklearn import linear_model\n",
    "df = pd.read_csv(\"P_V_graph.csv\")\n",
    "%matplotlib inline\n",
    "df"
   ]
  },
  {
   "cell_type": "code",
   "execution_count": 3,
   "id": "e932ec44-5920-48b0-8262-cec5ded19a4b",
   "metadata": {},
   "outputs": [
    {
     "name": "stdout",
     "output_type": "stream",
     "text": [
      "['log(P)', 'log(V)']\n",
      "['1.8007170782823851', '1.7427251313046983']\n",
      "['1.7032913781186614', '1.7958800173440752']\n",
      "['1.5740312677277188', '1.8597385661971468']\n",
      "['1.5843312243675307', '1.9527924430440922']\n",
      "['1.2833012287035497', '2.074084689028244']\n",
      "['1.0043213737826426', '2.287801729930226']\n"
     ]
    }
   ],
   "source": [
    "import csv\n",
    "import math\n",
    "f3 = open(\"log_P_V_graph.csv\",'w', newline='')\n",
    "w1 = csv.writer(f3)\n",
    "w1.writerow(['log(P)', 'log(V)'])\n",
    "l1 = [\n",
    "    [math.log10(63.2), math.log10(55.3)],\n",
    "    [math.log10(50.5), math.log10(62.5)],\n",
    "    [math.log10(37.5), math.log10(72.4)],\n",
    "    [math.log10(38.4), math.log10(89.7)],\n",
    "    [math.log10(19.2), math.log10(118.6)],\n",
    "    [math.log10(10.1), math.log10(194)]\n",
    "]\n",
    "w1.writerows(l1)\n",
    "f3.close()\n",
    "f4 = open(\"log_P_V_graph.csv\",'r')\n",
    "r1 = csv.reader(f4)\n",
    "for i in r1:\n",
    "    print(i)\n",
    "f4.close()"
   ]
  },
  {
   "cell_type": "code",
   "execution_count": 3,
   "id": "836c2ff1-c4a5-4698-963b-d86f1b1afba8",
   "metadata": {},
   "outputs": [
    {
     "data": {
      "text/html": [
       "<div>\n",
       "<style scoped>\n",
       "    .dataframe tbody tr th:only-of-type {\n",
       "        vertical-align: middle;\n",
       "    }\n",
       "\n",
       "    .dataframe tbody tr th {\n",
       "        vertical-align: top;\n",
       "    }\n",
       "\n",
       "    .dataframe thead th {\n",
       "        text-align: right;\n",
       "    }\n",
       "</style>\n",
       "<table border=\"1\" class=\"dataframe\">\n",
       "  <thead>\n",
       "    <tr style=\"text-align: right;\">\n",
       "      <th></th>\n",
       "      <th>log(P)</th>\n",
       "      <th>log(V)</th>\n",
       "    </tr>\n",
       "  </thead>\n",
       "  <tbody>\n",
       "    <tr>\n",
       "      <th>0</th>\n",
       "      <td>1.800717</td>\n",
       "      <td>1.742725</td>\n",
       "    </tr>\n",
       "    <tr>\n",
       "      <th>1</th>\n",
       "      <td>1.703291</td>\n",
       "      <td>1.795880</td>\n",
       "    </tr>\n",
       "    <tr>\n",
       "      <th>2</th>\n",
       "      <td>1.574031</td>\n",
       "      <td>1.859739</td>\n",
       "    </tr>\n",
       "    <tr>\n",
       "      <th>3</th>\n",
       "      <td>1.584331</td>\n",
       "      <td>1.952792</td>\n",
       "    </tr>\n",
       "    <tr>\n",
       "      <th>4</th>\n",
       "      <td>1.283301</td>\n",
       "      <td>2.074085</td>\n",
       "    </tr>\n",
       "    <tr>\n",
       "      <th>5</th>\n",
       "      <td>1.004321</td>\n",
       "      <td>2.287802</td>\n",
       "    </tr>\n",
       "  </tbody>\n",
       "</table>\n",
       "</div>"
      ],
      "text/plain": [
       "     log(P)    log(V)\n",
       "0  1.800717  1.742725\n",
       "1  1.703291  1.795880\n",
       "2  1.574031  1.859739\n",
       "3  1.584331  1.952792\n",
       "4  1.283301  2.074085\n",
       "5  1.004321  2.287802"
      ]
     },
     "execution_count": 3,
     "metadata": {},
     "output_type": "execute_result"
    }
   ],
   "source": [
    "import pandas as pd\n",
    "import numpy as np\n",
    "import matplotlib.pyplot as plt\n",
    "from sklearn import linear_model\n",
    "df1 = pd.read_csv(\"log_P_V_graph.csv\")\n",
    "df1"
   ]
  },
  {
   "cell_type": "code",
   "execution_count": 6,
   "id": "59855ec1-2a1c-4041-aef8-d89278cbf5a9",
   "metadata": {},
   "outputs": [
    {
     "name": "stdout",
     "output_type": "stream",
     "text": [
      "LinearRegression()\n",
      "\n",
      "The equation is as follows: P * V ^ 1.4403292867862119 = 20111.007788642328\n",
      "LinearRegression()\n"
     ]
    },
    {
     "name": "stdin",
     "output_type": "stream",
     "text": [
      "Enter unknown values of V, separated by commas:  100\n"
     ]
    },
    {
     "name": "stdout",
     "output_type": "stream",
     "text": [
      "Predicted P: [36.05852472]\n"
     ]
    },
    {
     "name": "stderr",
     "output_type": "stream",
     "text": [
      "C:\\Users\\baner\\anaconda3\\Lib\\site-packages\\sklearn\\base.py:439: UserWarning: X does not have valid feature names, but LinearRegression was fitted with feature names\n",
      "  warnings.warn(\n"
     ]
    }
   ],
   "source": [
    "# by code\n",
    "\n",
    "X = df1[['log(V)']]\n",
    "Y = df1['log(P)']\n",
    "\n",
    "# Perform linear regression\n",
    "model = LinearRegression()\n",
    "print(model.fit(X, Y))\n",
    "\n",
    "W1 = model.coef_[0]\n",
    "W0 = model.intercept_\n",
    "\n",
    "n = -W1\n",
    "c = 10 ** W0\n",
    "\n",
    "print(\"\\nThe equation is as follows: P * V ^\",n,\"=\",c)\n",
    "\n",
    "X = df[['V']]\n",
    "Y = df['P']\n",
    "model = LinearRegression()\n",
    "print(model.fit(X, Y))\n",
    "\n",
    "\n",
    "# Function to predict unknown values of X\n",
    "def predict_unknown_values(unknown_values):\n",
    "    unknown_values = np.array(unknown_values).reshape(-1, 1)\n",
    "    predictions = model.predict(unknown_values)\n",
    "    return predictions\n",
    "\n",
    "# Ask user for unknown X values\n",
    "unknown_values = input(\"Enter unknown values of V, separated by commas: \").split(',')\n",
    "unknown_values = [float(value) for value in unknown_values]\n",
    "\n",
    "# Predict Y for unknown values of X\n",
    "predictions = predict_unknown_values(unknown_values)\n",
    "print(f'Predicted P: {predictions}')"
   ]
  },
  {
   "cell_type": "code",
   "execution_count": 8,
   "id": "1219a67a-5d3a-4535-827c-47aa6d4f9b4b",
   "metadata": {},
   "outputs": [
    {
     "name": "stdout",
     "output_type": "stream",
     "text": [
      "The value of n is: 1.4403292867862356\n",
      "The value of c is: 20111.00778864377\n",
      "\n",
      "The equation is as follows: P * V ^ 1.4403292867862356 = 20111.00778864377\n",
      "\n",
      "The estimate value of P is 26.471299432674904 when V is 100\n"
     ]
    }
   ],
   "source": [
    "%matplotlib inline\n",
    "X = df1['log(V)'].values\n",
    "Y = df1['log(P)'].values\n",
    "\n",
    "# PV^n = c\n",
    "# log(P) + n  * log(V) = logc\n",
    "#   y    + W1 *   x    =  W0\n",
    "# y = W0 - W1*x\n",
    "# y = W0 + (-W1)*x\n",
    "# y = c + m*x\n",
    "\n",
    "A = 0\n",
    "B = 0\n",
    "C = 0\n",
    "D = 0\n",
    "n = len(X)\n",
    "for i in range(n):\n",
    "    A += X[i]\n",
    "    B += Y[i]\n",
    "    C += X[i] * X[i]\n",
    "    D += X[i] * Y[i]\n",
    "W1 = (A*B - n*D) / (A*A -C*n)\n",
    "W0 = (B*C - A*D) / (C*n - A*A)\n",
    "\n",
    "n = -W1\n",
    "c = 10 ** W0\n",
    "\n",
    "print(\"The value of n is:\",n)\n",
    "print(\"The value of c is:\",c)\n",
    "\n",
    "print(\"\\nThe equation is as follows: P * V ^\",n,\"=\",c)\n",
    "\n",
    "# P V^n = c\n",
    "# P = c / (V ** n)\n",
    "pred_P = c / (100 ** n)\n",
    "print(\"\\nThe estimate value of P is\",pred_P,\"when V is 100\")"
   ]
  },
  {
   "cell_type": "code",
   "execution_count": null,
   "id": "81034a03-34d6-4da3-87b1-07fa9623065f",
   "metadata": {},
   "outputs": [],
   "source": []
  }
 ],
 "metadata": {
  "kernelspec": {
   "display_name": "Python 3 (ipykernel)",
   "language": "python",
   "name": "python3"
  },
  "language_info": {
   "codemirror_mode": {
    "name": "ipython",
    "version": 3
   },
   "file_extension": ".py",
   "mimetype": "text/x-python",
   "name": "python",
   "nbconvert_exporter": "python",
   "pygments_lexer": "ipython3",
   "version": "3.11.7"
  }
 },
 "nbformat": 4,
 "nbformat_minor": 5
}
