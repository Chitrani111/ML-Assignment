{
 "cells": [
  {
   "cell_type": "code",
   "execution_count": 1,
   "id": "02e3f99b-5431-4f02-bd0f-11573f245445",
   "metadata": {},
   "outputs": [],
   "source": [
    "import csv\n",
    "f1 = open(\"parabola.csv\",'w',newline='')\n",
    "w1 = csv.writer(f1)\n",
    "w1.writerow(['X', 'Y'])\n",
    "l1 = [\n",
    "    [0, 2.4],\n",
    "    [1, 2.1],\n",
    "    [2, 3.2],\n",
    "    [3, 5.6],\n",
    "    [4, 9.3],\n",
    "    [5, 14.6],\n",
    "    [6, 21.9]\n",
    "]\n",
    "w1.writerows(l1)\n",
    "f1.close()"
   ]
  },
  {
   "cell_type": "code",
   "execution_count": 2,
   "id": "bfe93802-95cc-4e20-addb-2f7c2cb2b648",
   "metadata": {},
   "outputs": [
    {
     "data": {
      "text/html": [
       "<div>\n",
       "<style scoped>\n",
       "    .dataframe tbody tr th:only-of-type {\n",
       "        vertical-align: middle;\n",
       "    }\n",
       "\n",
       "    .dataframe tbody tr th {\n",
       "        vertical-align: top;\n",
       "    }\n",
       "\n",
       "    .dataframe thead th {\n",
       "        text-align: right;\n",
       "    }\n",
       "</style>\n",
       "<table border=\"1\" class=\"dataframe\">\n",
       "  <thead>\n",
       "    <tr style=\"text-align: right;\">\n",
       "      <th></th>\n",
       "      <th>X</th>\n",
       "      <th>Y</th>\n",
       "    </tr>\n",
       "  </thead>\n",
       "  <tbody>\n",
       "    <tr>\n",
       "      <th>0</th>\n",
       "      <td>0</td>\n",
       "      <td>2.4</td>\n",
       "    </tr>\n",
       "    <tr>\n",
       "      <th>1</th>\n",
       "      <td>1</td>\n",
       "      <td>2.1</td>\n",
       "    </tr>\n",
       "    <tr>\n",
       "      <th>2</th>\n",
       "      <td>2</td>\n",
       "      <td>3.2</td>\n",
       "    </tr>\n",
       "    <tr>\n",
       "      <th>3</th>\n",
       "      <td>3</td>\n",
       "      <td>5.6</td>\n",
       "    </tr>\n",
       "    <tr>\n",
       "      <th>4</th>\n",
       "      <td>4</td>\n",
       "      <td>9.3</td>\n",
       "    </tr>\n",
       "    <tr>\n",
       "      <th>5</th>\n",
       "      <td>5</td>\n",
       "      <td>14.6</td>\n",
       "    </tr>\n",
       "    <tr>\n",
       "      <th>6</th>\n",
       "      <td>6</td>\n",
       "      <td>21.9</td>\n",
       "    </tr>\n",
       "  </tbody>\n",
       "</table>\n",
       "</div>"
      ],
      "text/plain": [
       "   X     Y\n",
       "0  0   2.4\n",
       "1  1   2.1\n",
       "2  2   3.2\n",
       "3  3   5.6\n",
       "4  4   9.3\n",
       "5  5  14.6\n",
       "6  6  21.9"
      ]
     },
     "execution_count": 2,
     "metadata": {},
     "output_type": "execute_result"
    }
   ],
   "source": [
    "import pandas as pd\n",
    "import numpy as np\n",
    "import matplotlib.pyplot as plt\n",
    "from sklearn import linear_model\n",
    "df = pd.read_csv(\"parabola.csv\")\n",
    "df"
   ]
  },
  {
   "cell_type": "code",
   "execution_count": 9,
   "id": "084bc392-22cf-454e-a5bd-fb4af9fbf54c",
   "metadata": {},
   "outputs": [
    {
     "data": {
      "image/png": "[encoded data removed]",
      "text/plain": [
       "<Figure size 640x480 with 1 Axes>"
      ]
     },
     "metadata": {},
     "output_type": "display_data"
    }
   ],
   "source": [
    "# W0 = 2.4\n",
    "# 2*W1 + 4*W2 = 0.8\n",
    "# 2*W1 + 2*W2 = -0.6\n",
    "# 2*W2 = 1.4 -->  W2 = 0.7\n",
    "# W1 = -0.3 - 0.7  -->  W1 = -1\n",
    "%matplotlib inline\n",
    "W0 = 2.4\n",
    "W1 = -1\n",
    "W2 = 0.7\n",
    "X = df['X'].values\n",
    "Y = df['Y'].values\n",
    "max_x = np.max(X) * np.max(X)\n",
    "min_x = np.min(X) * np.min(X)\n",
    "x = np.linspace(min_x, max_x, 1000)\n",
    "y = W0 + (W1*x) + (W2*x*x)\n",
    "plt.plot(x, y, color='orange', label='Regression line')\n",
    "plt.xlabel('X')\n",
    "plt.ylabel('Y')\n",
    "plt.scatter(df.X,df.Y, color='purple', marker='*')\n",
    "plt.legend()\n",
    "plt.show()"
   ]
  },
  {
   "cell_type": "code",
   "execution_count": null,
   "id": "2a1246a6-2396-4d57-ac14-4da251b52528",
   "metadata": {},
   "outputs": [],
   "source": []
  }
 ],
 "metadata": {
  "kernelspec": {
   "display_name": "Python 3 (ipykernel)",
   "language": "python",
   "name": "python3"
  },
  "language_info": {
   "codemirror_mode": {
    "name": "ipython",
    "version": 3
   },
   "file_extension": ".py",
   "mimetype": "text/x-python",
   "name": "python",
   "nbconvert_exporter": "python",
   "pygments_lexer": "ipython3",
   "version": "3.11.7"
  }
 },
 "nbformat": 4,
 "nbformat_minor": 5
}
