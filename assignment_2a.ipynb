{
 "cells": [
  {
   "cell_type": "code",
   "execution_count": 31,
   "id": "ddf419a7-9c30-440b-9dfe-27648252109c",
   "metadata": {},
   "outputs": [],
   "source": [
    "import pandas as pd\n",
    "from sklearn.model_selection import train_test_split\n",
    "from sklearn.linear_model import LinearRegression\n",
    "from sklearn.metrics import mean_squared_error\n",
    "import numpy as np"
   ]
  },
  {
   "cell_type": "code",
   "execution_count": 32,
   "id": "f3e3641a-17e6-46da-8d58-5f9550062aac",
   "metadata": {},
   "outputs": [],
   "source": [
    "import pandas as pd\n",
    "import numpy as np\n",
    "import matplotlib.pyplot as plt\n",
    "from sklearn import linear_model\n",
    "df = pd.read_csv(\"annual_revenue.csv\")\n",
    "%matplotlib inline"
   ]
  },
  {
   "cell_type": "code",
   "execution_count": 33,
   "id": "4e82061d-b40c-49a6-bc28-d7a96c379f68",
   "metadata": {},
   "outputs": [
    {
     "name": "stdout",
     "output_type": "stream",
     "text": [
      "LinearRegression()\n",
      "Slope (Coefficient): 20.700000000000006\n",
      "Intercept: -41505.863636363654\n"
     ]
    }
   ],
   "source": [
    "X = df[['X']]  # Features\n",
    "Y = df['Y']    # Target\n",
    "\n",
    "# Perform linear regression\n",
    "model = LinearRegression()\n",
    "print(model.fit(X, Y))\n",
    "\n",
    "# Print the slope and intercept\n",
    "print(f'Slope (Coefficient): {model.coef_[0]}')\n",
    "print(f'Intercept: {model.intercept_}')"
   ]
  },
  {
   "cell_type": "code",
   "execution_count": 34,
   "id": "780e97dd-c15d-4f33-b57c-d4bebcb98753",
   "metadata": {},
   "outputs": [
    {
     "data": {
      "image/png": "[encoded data removed]",
      "text/plain": [
       "<Figure size 640x480 with 1 Axes>"
      ]
     },
     "metadata": {},
     "output_type": "display_data"
    },
    {
     "data": {
      "text/html": [
       "<div>\n",
       "<style scoped>\n",
       "    .dataframe tbody tr th:only-of-type {\n",
       "        vertical-align: middle;\n",
       "    }\n",
       "\n",
       "    .dataframe tbody tr th {\n",
       "        vertical-align: top;\n",
       "    }\n",
       "\n",
       "    .dataframe thead th {\n",
       "        text-align: right;\n",
       "    }\n",
       "</style>\n",
       "<table border=\"1\" class=\"dataframe\">\n",
       "  <thead>\n",
       "    <tr style=\"text-align: right;\">\n",
       "      <th></th>\n",
       "      <th>X</th>\n",
       "      <th>Y</th>\n",
       "    </tr>\n",
       "  </thead>\n",
       "  <tbody>\n",
       "    <tr>\n",
       "      <th>0</th>\n",
       "      <td>2012</td>\n",
       "      <td>200.5</td>\n",
       "    </tr>\n",
       "    <tr>\n",
       "      <th>1</th>\n",
       "      <td>2013</td>\n",
       "      <td>198.5</td>\n",
       "    </tr>\n",
       "    <tr>\n",
       "      <th>2</th>\n",
       "      <td>2014</td>\n",
       "      <td>187.4</td>\n",
       "    </tr>\n",
       "    <tr>\n",
       "      <th>3</th>\n",
       "      <td>2015</td>\n",
       "      <td>189.2</td>\n",
       "    </tr>\n",
       "    <tr>\n",
       "      <th>4</th>\n",
       "      <td>2016</td>\n",
       "      <td>188.9</td>\n",
       "    </tr>\n",
       "    <tr>\n",
       "      <th>5</th>\n",
       "      <td>2017</td>\n",
       "      <td>183.5</td>\n",
       "    </tr>\n",
       "    <tr>\n",
       "      <th>6</th>\n",
       "      <td>2018</td>\n",
       "      <td>189.1</td>\n",
       "    </tr>\n",
       "    <tr>\n",
       "      <th>7</th>\n",
       "      <td>2019</td>\n",
       "      <td>284.0</td>\n",
       "    </tr>\n",
       "    <tr>\n",
       "      <th>8</th>\n",
       "      <td>2020</td>\n",
       "      <td>292.3</td>\n",
       "    </tr>\n",
       "    <tr>\n",
       "      <th>9</th>\n",
       "      <td>2021</td>\n",
       "      <td>396.0</td>\n",
       "    </tr>\n",
       "    <tr>\n",
       "      <th>10</th>\n",
       "      <td>2022</td>\n",
       "      <td>397.0</td>\n",
       "    </tr>\n",
       "  </tbody>\n",
       "</table>\n",
       "</div>"
      ],
      "text/plain": [
       "       X      Y\n",
       "0   2012  200.5\n",
       "1   2013  198.5\n",
       "2   2014  187.4\n",
       "3   2015  189.2\n",
       "4   2016  188.9\n",
       "5   2017  183.5\n",
       "6   2018  189.1\n",
       "7   2019  284.0\n",
       "8   2020  292.3\n",
       "9   2021  396.0\n",
       "10  2022  397.0"
      ]
     },
     "execution_count": 34,
     "metadata": {},
     "output_type": "execute_result"
    }
   ],
   "source": [
    "max_x = np.max(X)\n",
    "min_x = np.min(X)\n",
    "x = np.linspace(min_x, max_x, 1000)\n",
    "W1 = model.coef_[0]\n",
    "W0 = model.intercept_\n",
    "y = W0 + W1 * x\n",
    "plt.plot(x, y, color='orange', label='Regression line')\n",
    "plt.xlabel('Year')\n",
    "plt.ylabel('Rev. In billion Rupees')\n",
    "plt.scatter(X, Y, color='purple', marker='*', label='Scatter')\n",
    "plt.legend()\n",
    "plt.show()\n",
    "df"
   ]
  },
  {
   "cell_type": "code",
   "execution_count": 35,
   "id": "dab516cc-bf49-49d2-bec6-366b8413c46e",
   "metadata": {},
   "outputs": [
    {
     "name": "stdin",
     "output_type": "stream",
     "text": [
      "Enter unknown values of X, separated by commas:  2023\n"
     ]
    },
    {
     "name": "stdout",
     "output_type": "stream",
     "text": [
      "Predicted Y values: [370.23636364]\n"
     ]
    },
    {
     "name": "stderr",
     "output_type": "stream",
     "text": [
      "C:\\Users\\baner\\anaconda3\\Lib\\site-packages\\sklearn\\base.py:439: UserWarning: X does not have valid feature names, but LinearRegression was fitted with feature names\n",
      "  warnings.warn(\n"
     ]
    }
   ],
   "source": [
    "# Function to predict unknown values of X\n",
    "def predict_unknown_values(unknown_values):\n",
    "    unknown_values = np.array(unknown_values).reshape(-1, 1)\n",
    "    predictions = model.predict(unknown_values)\n",
    "    return predictions\n",
    "\n",
    "# Ask user for unknown X values\n",
    "unknown_values = input(\"Enter unknown values of X, separated by commas: \").split(',')\n",
    "unknown_values = [float(value) for value in unknown_values]\n",
    "\n",
    "# Predict Y for unknown values of X\n",
    "predictions = predict_unknown_values(unknown_values)\n",
    "print(f'Predicted Y values: {predictions}')"
   ]
  },
  {
   "cell_type": "code",
   "execution_count": 36,
   "id": "a151ef71-46fc-4bfc-9e0f-d02e40de9758",
   "metadata": {},
   "outputs": [
    {
     "name": "stdout",
     "output_type": "stream",
     "text": [
      "      X\n",
      "5  2017\n",
      "0  2012\n",
      "9  2021\n",
      "[246.03636364 142.53636364 328.83636364]\n",
      "Mean Squared Error: 3927.177989\n"
     ]
    }
   ],
   "source": [
    "# Split the data into training and testing sets\n",
    "X_train, X_test, Y_train, Y_test = train_test_split(X, Y, test_size=0.2, random_state=42)\n",
    "\n",
    "# Predict on the test set\n",
    "Y_pred = model.predict(X_test)\n",
    "print(X_test)\n",
    "\n",
    "print(Y_pred)\n",
    "\n",
    "# Evaluate the model\n",
    "mse = mean_squared_error(Y_test, Y_pred)\n",
    "print(f'Mean Squared Error: {mse:.6f}')"
   ]
  },
  {
   "cell_type": "code",
   "execution_count": null,
   "id": "157e9484-8c3a-415e-97e3-7f2b7efbdb9d",
   "metadata": {},
   "outputs": [],
   "source": []
  }
 ],
 "metadata": {
  "kernelspec": {
   "display_name": "Python 3 (ipykernel)",
   "language": "python",
   "name": "python3"
  },
  "language_info": {
   "codemirror_mode": {
    "name": "ipython",
    "version": 3
   },
   "file_extension": ".py",
   "mimetype": "text/x-python",
   "name": "python",
   "nbconvert_exporter": "python",
   "pygments_lexer": "ipython3",
   "version": "3.11.7"
  }
 },
 "nbformat": 4,
 "nbformat_minor": 5
}
